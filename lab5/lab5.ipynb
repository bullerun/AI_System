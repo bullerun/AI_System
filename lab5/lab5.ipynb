{
 "cells": [
  {
   "cell_type": "code",
   "metadata": {
    "ExecuteTime": {
     "end_time": "2024-12-11T09:49:37.162027Z",
     "start_time": "2024-12-11T09:49:37.158140Z"
    }
   },
   "source": [
    "import numpy as np\n",
    "import matplotlib.pyplot as plt\n",
    "import pandas as pd\n",
    "from math import sqrt, ceil, log2"
   ],
   "outputs": [],
   "execution_count": 751
  },
  {
   "cell_type": "markdown",
   "metadata": {},
   "source": [
    "## Сборка данных"
   ]
  },
  {
   "cell_type": "code",
   "metadata": {
    "ExecuteTime": {
     "end_time": "2024-12-11T09:49:37.190375Z",
     "start_time": "2024-12-11T09:49:37.179946Z"
    }
   },
   "source": [
    "data = pd.read_csv(\"dataset.csv\")\n",
    "data = data.drop(columns=\"STUDENT ID\")\n",
    "data"
   ],
   "outputs": [
    {
     "data": {
      "text/plain": [
       "     1  2  3  4  5  6  7  8  9  10  ...  23  24  25  26  27  28  29  30  \\\n",
       "0    2  2  3  3  1  2  2  1  1   1  ...   1   1   3   2   1   2   1   1   \n",
       "1    2  2  3  3  1  2  2  1  1   1  ...   1   1   3   2   3   2   2   3   \n",
       "2    2  2  2  3  2  2  2  2  4   2  ...   1   1   2   2   1   1   2   2   \n",
       "3    1  1  1  3  1  2  1  2  1   2  ...   1   2   3   2   2   1   3   2   \n",
       "4    2  2  1  3  2  2  1  3  1   4  ...   2   1   2   2   2   1   2   2   \n",
       "..  .. .. .. .. .. .. .. .. ..  ..  ...  ..  ..  ..  ..  ..  ..  ..  ..   \n",
       "140  2  1  2  3  1  1  2  1  1   2  ...   1   1   2   1   2   1   3   3   \n",
       "141  1  1  2  4  2  2  2  1  4   2  ...   1   1   3   2   2   1   5   3   \n",
       "142  1  1  1  4  2  2  2  1  1   1  ...   1   1   3   3   2   1   4   3   \n",
       "143  2  1  2  4  1  1  1  5  2   3  ...   2   1   2   1   2   1   5   3   \n",
       "144  1  1  1  5  2  2  2  3  1   1  ...   2   1   3   2   3   1   5   4   \n",
       "\n",
       "     COURSE ID  GRADE  \n",
       "0            1      1  \n",
       "1            1      1  \n",
       "2            1      1  \n",
       "3            1      1  \n",
       "4            1      1  \n",
       "..         ...    ...  \n",
       "140          9      5  \n",
       "141          9      5  \n",
       "142          9      1  \n",
       "143          9      4  \n",
       "144          9      3  \n",
       "\n",
       "[145 rows x 32 columns]"
      ],
      "text/html": [
       "<div>\n",
       "<style scoped>\n",
       "    .dataframe tbody tr th:only-of-type {\n",
       "        vertical-align: middle;\n",
       "    }\n",
       "\n",
       "    .dataframe tbody tr th {\n",
       "        vertical-align: top;\n",
       "    }\n",
       "\n",
       "    .dataframe thead th {\n",
       "        text-align: right;\n",
       "    }\n",
       "</style>\n",
       "<table border=\"1\" class=\"dataframe\">\n",
       "  <thead>\n",
       "    <tr style=\"text-align: right;\">\n",
       "      <th></th>\n",
       "      <th>1</th>\n",
       "      <th>2</th>\n",
       "      <th>3</th>\n",
       "      <th>4</th>\n",
       "      <th>5</th>\n",
       "      <th>6</th>\n",
       "      <th>7</th>\n",
       "      <th>8</th>\n",
       "      <th>9</th>\n",
       "      <th>10</th>\n",
       "      <th>...</th>\n",
       "      <th>23</th>\n",
       "      <th>24</th>\n",
       "      <th>25</th>\n",
       "      <th>26</th>\n",
       "      <th>27</th>\n",
       "      <th>28</th>\n",
       "      <th>29</th>\n",
       "      <th>30</th>\n",
       "      <th>COURSE ID</th>\n",
       "      <th>GRADE</th>\n",
       "    </tr>\n",
       "  </thead>\n",
       "  <tbody>\n",
       "    <tr>\n",
       "      <th>0</th>\n",
       "      <td>2</td>\n",
       "      <td>2</td>\n",
       "      <td>3</td>\n",
       "      <td>3</td>\n",
       "      <td>1</td>\n",
       "      <td>2</td>\n",
       "      <td>2</td>\n",
       "      <td>1</td>\n",
       "      <td>1</td>\n",
       "      <td>1</td>\n",
       "      <td>...</td>\n",
       "      <td>1</td>\n",
       "      <td>1</td>\n",
       "      <td>3</td>\n",
       "      <td>2</td>\n",
       "      <td>1</td>\n",
       "      <td>2</td>\n",
       "      <td>1</td>\n",
       "      <td>1</td>\n",
       "      <td>1</td>\n",
       "      <td>1</td>\n",
       "    </tr>\n",
       "    <tr>\n",
       "      <th>1</th>\n",
       "      <td>2</td>\n",
       "      <td>2</td>\n",
       "      <td>3</td>\n",
       "      <td>3</td>\n",
       "      <td>1</td>\n",
       "      <td>2</td>\n",
       "      <td>2</td>\n",
       "      <td>1</td>\n",
       "      <td>1</td>\n",
       "      <td>1</td>\n",
       "      <td>...</td>\n",
       "      <td>1</td>\n",
       "      <td>1</td>\n",
       "      <td>3</td>\n",
       "      <td>2</td>\n",
       "      <td>3</td>\n",
       "      <td>2</td>\n",
       "      <td>2</td>\n",
       "      <td>3</td>\n",
       "      <td>1</td>\n",
       "      <td>1</td>\n",
       "    </tr>\n",
       "    <tr>\n",
       "      <th>2</th>\n",
       "      <td>2</td>\n",
       "      <td>2</td>\n",
       "      <td>2</td>\n",
       "      <td>3</td>\n",
       "      <td>2</td>\n",
       "      <td>2</td>\n",
       "      <td>2</td>\n",
       "      <td>2</td>\n",
       "      <td>4</td>\n",
       "      <td>2</td>\n",
       "      <td>...</td>\n",
       "      <td>1</td>\n",
       "      <td>1</td>\n",
       "      <td>2</td>\n",
       "      <td>2</td>\n",
       "      <td>1</td>\n",
       "      <td>1</td>\n",
       "      <td>2</td>\n",
       "      <td>2</td>\n",
       "      <td>1</td>\n",
       "      <td>1</td>\n",
       "    </tr>\n",
       "    <tr>\n",
       "      <th>3</th>\n",
       "      <td>1</td>\n",
       "      <td>1</td>\n",
       "      <td>1</td>\n",
       "      <td>3</td>\n",
       "      <td>1</td>\n",
       "      <td>2</td>\n",
       "      <td>1</td>\n",
       "      <td>2</td>\n",
       "      <td>1</td>\n",
       "      <td>2</td>\n",
       "      <td>...</td>\n",
       "      <td>1</td>\n",
       "      <td>2</td>\n",
       "      <td>3</td>\n",
       "      <td>2</td>\n",
       "      <td>2</td>\n",
       "      <td>1</td>\n",
       "      <td>3</td>\n",
       "      <td>2</td>\n",
       "      <td>1</td>\n",
       "      <td>1</td>\n",
       "    </tr>\n",
       "    <tr>\n",
       "      <th>4</th>\n",
       "      <td>2</td>\n",
       "      <td>2</td>\n",
       "      <td>1</td>\n",
       "      <td>3</td>\n",
       "      <td>2</td>\n",
       "      <td>2</td>\n",
       "      <td>1</td>\n",
       "      <td>3</td>\n",
       "      <td>1</td>\n",
       "      <td>4</td>\n",
       "      <td>...</td>\n",
       "      <td>2</td>\n",
       "      <td>1</td>\n",
       "      <td>2</td>\n",
       "      <td>2</td>\n",
       "      <td>2</td>\n",
       "      <td>1</td>\n",
       "      <td>2</td>\n",
       "      <td>2</td>\n",
       "      <td>1</td>\n",
       "      <td>1</td>\n",
       "    </tr>\n",
       "    <tr>\n",
       "      <th>...</th>\n",
       "      <td>...</td>\n",
       "      <td>...</td>\n",
       "      <td>...</td>\n",
       "      <td>...</td>\n",
       "      <td>...</td>\n",
       "      <td>...</td>\n",
       "      <td>...</td>\n",
       "      <td>...</td>\n",
       "      <td>...</td>\n",
       "      <td>...</td>\n",
       "      <td>...</td>\n",
       "      <td>...</td>\n",
       "      <td>...</td>\n",
       "      <td>...</td>\n",
       "      <td>...</td>\n",
       "      <td>...</td>\n",
       "      <td>...</td>\n",
       "      <td>...</td>\n",
       "      <td>...</td>\n",
       "      <td>...</td>\n",
       "      <td>...</td>\n",
       "    </tr>\n",
       "    <tr>\n",
       "      <th>140</th>\n",
       "      <td>2</td>\n",
       "      <td>1</td>\n",
       "      <td>2</td>\n",
       "      <td>3</td>\n",
       "      <td>1</td>\n",
       "      <td>1</td>\n",
       "      <td>2</td>\n",
       "      <td>1</td>\n",
       "      <td>1</td>\n",
       "      <td>2</td>\n",
       "      <td>...</td>\n",
       "      <td>1</td>\n",
       "      <td>1</td>\n",
       "      <td>2</td>\n",
       "      <td>1</td>\n",
       "      <td>2</td>\n",
       "      <td>1</td>\n",
       "      <td>3</td>\n",
       "      <td>3</td>\n",
       "      <td>9</td>\n",
       "      <td>5</td>\n",
       "    </tr>\n",
       "    <tr>\n",
       "      <th>141</th>\n",
       "      <td>1</td>\n",
       "      <td>1</td>\n",
       "      <td>2</td>\n",
       "      <td>4</td>\n",
       "      <td>2</td>\n",
       "      <td>2</td>\n",
       "      <td>2</td>\n",
       "      <td>1</td>\n",
       "      <td>4</td>\n",
       "      <td>2</td>\n",
       "      <td>...</td>\n",
       "      <td>1</td>\n",
       "      <td>1</td>\n",
       "      <td>3</td>\n",
       "      <td>2</td>\n",
       "      <td>2</td>\n",
       "      <td>1</td>\n",
       "      <td>5</td>\n",
       "      <td>3</td>\n",
       "      <td>9</td>\n",
       "      <td>5</td>\n",
       "    </tr>\n",
       "    <tr>\n",
       "      <th>142</th>\n",
       "      <td>1</td>\n",
       "      <td>1</td>\n",
       "      <td>1</td>\n",
       "      <td>4</td>\n",
       "      <td>2</td>\n",
       "      <td>2</td>\n",
       "      <td>2</td>\n",
       "      <td>1</td>\n",
       "      <td>1</td>\n",
       "      <td>1</td>\n",
       "      <td>...</td>\n",
       "      <td>1</td>\n",
       "      <td>1</td>\n",
       "      <td>3</td>\n",
       "      <td>3</td>\n",
       "      <td>2</td>\n",
       "      <td>1</td>\n",
       "      <td>4</td>\n",
       "      <td>3</td>\n",
       "      <td>9</td>\n",
       "      <td>1</td>\n",
       "    </tr>\n",
       "    <tr>\n",
       "      <th>143</th>\n",
       "      <td>2</td>\n",
       "      <td>1</td>\n",
       "      <td>2</td>\n",
       "      <td>4</td>\n",
       "      <td>1</td>\n",
       "      <td>1</td>\n",
       "      <td>1</td>\n",
       "      <td>5</td>\n",
       "      <td>2</td>\n",
       "      <td>3</td>\n",
       "      <td>...</td>\n",
       "      <td>2</td>\n",
       "      <td>1</td>\n",
       "      <td>2</td>\n",
       "      <td>1</td>\n",
       "      <td>2</td>\n",
       "      <td>1</td>\n",
       "      <td>5</td>\n",
       "      <td>3</td>\n",
       "      <td>9</td>\n",
       "      <td>4</td>\n",
       "    </tr>\n",
       "    <tr>\n",
       "      <th>144</th>\n",
       "      <td>1</td>\n",
       "      <td>1</td>\n",
       "      <td>1</td>\n",
       "      <td>5</td>\n",
       "      <td>2</td>\n",
       "      <td>2</td>\n",
       "      <td>2</td>\n",
       "      <td>3</td>\n",
       "      <td>1</td>\n",
       "      <td>1</td>\n",
       "      <td>...</td>\n",
       "      <td>2</td>\n",
       "      <td>1</td>\n",
       "      <td>3</td>\n",
       "      <td>2</td>\n",
       "      <td>3</td>\n",
       "      <td>1</td>\n",
       "      <td>5</td>\n",
       "      <td>4</td>\n",
       "      <td>9</td>\n",
       "      <td>3</td>\n",
       "    </tr>\n",
       "  </tbody>\n",
       "</table>\n",
       "<p>145 rows × 32 columns</p>\n",
       "</div>"
      ]
     },
     "execution_count": 752,
     "metadata": {},
     "output_type": "execute_result"
    }
   ],
   "execution_count": 752
  },
  {
   "metadata": {
    "ExecuteTime": {
     "end_time": "2024-12-11T09:49:37.230956Z",
     "start_time": "2024-12-11T09:49:37.224502Z"
    }
   },
   "cell_type": "code",
   "source": [
    "y = data['GRADE'].apply(lambda x: 1 if x >= 3 else 0)\n",
    "X = data.drop(columns=\"GRADE\")\n",
    "y"
   ],
   "outputs": [
    {
     "data": {
      "text/plain": [
       "0      0\n",
       "1      0\n",
       "2      0\n",
       "3      0\n",
       "4      0\n",
       "      ..\n",
       "140    1\n",
       "141    1\n",
       "142    0\n",
       "143    1\n",
       "144    1\n",
       "Name: GRADE, Length: 145, dtype: int64"
      ]
     },
     "execution_count": 753,
     "metadata": {},
     "output_type": "execute_result"
    }
   ],
   "execution_count": 753
  },
  {
   "cell_type": "markdown",
   "metadata": {},
   "source": [
    "## Decision Tree "
   ]
  },
  {
   "cell_type": "code",
   "metadata": {
    "ExecuteTime": {
     "end_time": "2024-12-11T09:49:37.290268Z",
     "start_time": "2024-12-11T09:49:37.281004Z"
    }
   },
   "source": [
    "class Node:\n",
    "    def __init__(\n",
    "            self,\n",
    "            feature_name: str,\n",
    "            value_to_node: dict[str, 'Node']\n",
    "    ):\n",
    "        self.feature_name = feature_name\n",
    "        self.value_to_node = value_to_node\n",
    "\n",
    "    def pred(self, x):\n",
    "        feature_value = x[self.feature_name]\n",
    "        if feature_value not in self.value_to_node:\n",
    "            return None\n",
    "        return self.value_to_node[feature_value].pred(x)\n",
    "\n",
    "    def pred_prob(self, x):\n",
    "        feature_value = x[self.feature_name]\n",
    "        if feature_value not in self.value_to_node:\n",
    "            return 0\n",
    "        return self.value_to_node[feature_value].pred_prob(x)\n",
    "\n",
    "    def print_node(self, indent=0):\n",
    "        for value, node in self.value_to_node.items():\n",
    "            print(' ' * indent + f'{self.feature_name} == {value}:')\n",
    "            node.print_node(indent + 2)\n",
    "\n",
    "\n",
    "class LeafNode(Node):\n",
    "    def __init__(\n",
    "            self,\n",
    "            leaf_value: str,\n",
    "            prob: float\n",
    "    ):\n",
    "        super().__init__(\"\", {})\n",
    "        self.leaf_value = leaf_value\n",
    "        self.prob = prob\n",
    "\n",
    "    def pred(self, x):\n",
    "        return self.leaf_value\n",
    "\n",
    "    def pred_prob(self, x):\n",
    "        return (self.leaf_value, self.prob)\n",
    "\n",
    "    def print_node(self, indent=0):\n",
    "        print(' ' * indent + f'-> {self.leaf_value} ({self.prob})')\n",
    "\n",
    "\n",
    "class DecisionTree:\n",
    "    def __init__(self, cols: list[str]):\n",
    "        self.cols = cols\n",
    "\n",
    "    def fit(self, x, y):\n",
    "        self.root = self._build_node(x[self.cols], y, DecisionTree._entropy(y))\n",
    "\n",
    "    def pred(self, x):\n",
    "        res = []\n",
    "        for row in x[self.cols].to_records():\n",
    "            res.append(self.root.pred(row))\n",
    "        return res\n",
    "\n",
    "    def pred_prob(self, x):\n",
    "        res = []\n",
    "        for row in x[self.cols].to_records():\n",
    "            res.append(self.root.pred_prob(row))\n",
    "        return res\n",
    "\n",
    "    def _build_node(self, x, y, parent_info: float) -> Node:\n",
    "        if len(y.unique()) == 1:\n",
    "            return LeafNode(y.unique()[0], 1)\n",
    "\n",
    "        best_gain = 0\n",
    "        best_gain_info = 0\n",
    "        best_gain_col = ''\n",
    "\n",
    "        for col in self.cols:\n",
    "            cat_names = x[col].unique()\n",
    "            info = 0\n",
    "\n",
    "            for cat in cat_names:\n",
    "                cat_weight = x[col].value_counts()[cat] / len(x)\n",
    "                entropy = DecisionTree._entropy(y[x[col] == cat])\n",
    "                info += cat_weight * entropy\n",
    "\n",
    "            if parent_info - info > best_gain:\n",
    "                best_gain = parent_info - info\n",
    "                best_gain_info = info\n",
    "                best_gain_col = col\n",
    "\n",
    "        if best_gain_col == '':\n",
    "            mode = y.mode()[0]\n",
    "            return LeafNode(mode, y.value_counts()[mode] / len(y))\n",
    "\n",
    "        values_to_node = {}\n",
    "\n",
    "        cat_names = x[best_gain_col].unique()\n",
    "        for cat in cat_names:\n",
    "            values_to_node[cat] = self._build_node(x[x[best_gain_col] == cat], y[x[best_gain_col] == cat],\n",
    "                                                   best_gain_info)\n",
    "\n",
    "        return Node(best_gain_col, values_to_node)\n",
    "\n",
    "    def print_tree(self):\n",
    "        self.root.print_node()\n",
    "\n",
    "    @staticmethod\n",
    "    def _entropy(y) -> float:\n",
    "        cls_names = y.unique()\n",
    "        res = 0\n",
    "\n",
    "        for cls in cls_names:\n",
    "            cls_prob = y.value_counts()[cls] / len(y)\n",
    "            res -= cls_prob * log2(cls_prob)\n",
    "\n",
    "        return res\n"
   ],
   "outputs": [],
   "execution_count": 754
  },
  {
   "cell_type": "markdown",
   "metadata": {},
   "source": [
    "## Train-Test-Split"
   ]
  },
  {
   "cell_type": "code",
   "metadata": {
    "ExecuteTime": {
     "end_time": "2024-12-11T09:49:37.366768Z",
     "start_time": "2024-12-11T09:49:37.363006Z"
    }
   },
   "source": [
    "samples_amount = 0.3\n",
    "random_state = 336771\n",
    "\n",
    "test_x = X.sample(frac=samples_amount, random_state=random_state)\n",
    "test_y = y[test_x.index]\n",
    "train_x = X.drop(test_x.index, axis=0)\n",
    "train_y = y[train_x.index]"
   ],
   "outputs": [],
   "execution_count": 755
  },
  {
   "cell_type": "markdown",
   "metadata": {},
   "source": [
    "## Training"
   ]
  },
  {
   "cell_type": "code",
   "metadata": {
    "ExecuteTime": {
     "end_time": "2024-12-11T09:49:37.478747Z",
     "start_time": "2024-12-11T09:49:37.443037Z"
    }
   },
   "source": [
    "cols = X.columns\n",
    "cols = np.random.choice(cols, ceil(sqrt(len(cols))))\n",
    "\n",
    "print(\"Используются признаки:\", *cols)\n",
    "\n",
    "tree = DecisionTree(cols)\n",
    "tree.fit(train_x, train_y)\n",
    "tree.print_tree()"
   ],
   "outputs": [
    {
     "name": "stdout",
     "output_type": "stream",
     "text": [
      "Используются признаки: 20 16 15 COURSE ID 30 19\n",
      "COURSE ID == 1:\n",
      "  -> 0 (0.5833333333333334)\n",
      "COURSE ID == 2:\n",
      "  16 == 5:\n",
      "    -> 1 (1)\n",
      "  16 == 2:\n",
      "    -> 0 (1)\n",
      "COURSE ID == 3:\n",
      "  -> 1 (1)\n",
      "COURSE ID == 4:\n",
      "  -> 1 (1)\n",
      "COURSE ID == 5:\n",
      "  -> 1 (1)\n",
      "COURSE ID == 6:\n",
      "  -> 1 (1)\n",
      "COURSE ID == 7:\n",
      "  -> 1 (1)\n",
      "COURSE ID == 8:\n",
      "  -> 0 (1)\n",
      "COURSE ID == 9:\n",
      "  -> 1 (0.5454545454545454)\n"
     ]
    }
   ],
   "execution_count": 756
  },
  {
   "metadata": {},
   "cell_type": "markdown",
   "source": "## Testing"
  },
  {
   "cell_type": "code",
   "metadata": {
    "ExecuteTime": {
     "end_time": "2024-12-11T09:49:37.587581Z",
     "start_time": "2024-12-11T09:49:37.574748Z"
    }
   },
   "source": [
    "def confusion_matrix(pred_y, true_y):\n",
    "    res = np.zeros((2, 2))\n",
    "\n",
    "    for pred, true in zip(pred_y, true_y):\n",
    "        res[pred][true] += 1\n",
    "\n",
    "    return res\n",
    "\n",
    "\n",
    "def confusion_matrix_prob(pred_probs, true_y, threshold):\n",
    "    res = np.zeros((2, 2))\n",
    "    for pred_prob, true in zip(pred_probs, true_y):\n",
    "        pred = 1 if pred_prob >= threshold else 0\n",
    "        res[pred][true] += 1\n",
    "\n",
    "    return res\n",
    "\n",
    "\n",
    "def accuracy(conf):\n",
    "    return (conf[1][1] + conf[0][0]) / sum(conf.flatten())\n",
    "\n",
    "\n",
    "def precision(conf):\n",
    "    return conf[1][1] / (conf[1][1] + conf[1][0])\n",
    "\n",
    "\n",
    "def recall(conf):\n",
    "    return conf[1][1] / (conf[1][1] + conf[0][1])\n",
    "\n",
    "\n",
    "def fallout(conf):\n",
    "    return conf[1][0] / (conf[1][0] + conf[0][0])\n"
   ],
   "outputs": [],
   "execution_count": 757
  },
  {
   "cell_type": "code",
   "metadata": {
    "ExecuteTime": {
     "end_time": "2024-12-11T09:49:37.613600Z",
     "start_time": "2024-12-11T09:49:37.606352Z"
    }
   },
   "source": [
    "pred_y = tree.pred(test_x)\n",
    "conf = confusion_matrix(pred_y, test_y)\n",
    "print(conf)\n",
    "print('Accuracy:', accuracy(conf))\n",
    "print('Precision', precision(conf))\n",
    "print('Recall:', recall(conf))"
   ],
   "outputs": [
    {
     "name": "stdout",
     "output_type": "stream",
     "text": [
      "[[17.  5.]\n",
      " [ 6. 16.]]\n",
      "Accuracy: 0.75\n",
      "Precision 0.7272727272727273\n",
      "Recall: 0.7619047619047619\n"
     ]
    }
   ],
   "execution_count": 758
  },
  {
   "cell_type": "markdown",
   "metadata": {},
   "source": [
    "## AUC\n",
    "Для ROC и PR"
   ]
  },
  {
   "cell_type": "code",
   "metadata": {
    "ExecuteTime": {
     "end_time": "2024-12-11T09:49:37.639173Z",
     "start_time": "2024-12-11T09:49:37.633347Z"
    }
   },
   "source": [
    "pred_prob = tree.pred_prob(test_x)\n",
    "probs = []\n",
    "\n",
    "for i in pred_prob:\n",
    "    pred, prob = i[0], i[1]\n",
    "    if pred == 1:\n",
    "        probs.append(prob)\n",
    "    else:\n",
    "        probs.append(1 - prob)"
   ],
   "outputs": [],
   "execution_count": 759
  },
  {
   "cell_type": "code",
   "metadata": {
    "ExecuteTime": {
     "end_time": "2024-12-11T09:49:37.745494Z",
     "start_time": "2024-12-11T09:49:37.660649Z"
    }
   },
   "source": [
    "tpr = []\n",
    "fpr = []\n",
    "\n",
    "for th in np.arange(1, 0, -0.01):\n",
    "    conf = confusion_matrix_prob(probs, test_y, th)\n",
    "    tpr.append(recall(conf))\n",
    "    fpr.append(fallout(conf))\n",
    "\n",
    "plt.plot([0] + fpr + [1], [0] + tpr + [1], label='ROC')\n",
    "plt.plot(np.linspace(0, 1, 100), np.linspace(0, 1, 100), 'k--', label='Baseline')\n",
    "plt.xlabel('False Positive Rate')\n",
    "plt.ylabel('True Positive Rate')\n",
    "plt.legend()"
   ],
   "outputs": [
    {
     "data": {
      "text/plain": [
       "<matplotlib.legend.Legend at 0x1d6dde8a060>"
      ]
     },
     "execution_count": 760,
     "metadata": {},
     "output_type": "execute_result"
    },
    {
     "data": {
      "text/plain": [
       "<Figure size 640x480 with 1 Axes>"
      ],
      "image/png": "[encoded data removed]"
     },
     "metadata": {},
     "output_type": "display_data"
    }
   ],
   "execution_count": 760
  },
  {
   "cell_type": "code",
   "metadata": {
    "ExecuteTime": {
     "end_time": "2024-12-11T09:49:37.914300Z",
     "start_time": "2024-12-11T09:49:37.828271Z"
    }
   },
   "source": [
    "p = []\n",
    "r = []\n",
    "\n",
    "for th in np.arange(0, 1, 0.01):\n",
    "    conf = confusion_matrix_prob(probs, test_y, th)\n",
    "    p.append(precision(conf))\n",
    "    r.append(recall(conf))\n",
    "\n",
    "plt.plot([1] + r + [0], [0] + p + [1], label='PR')\n",
    "plt.xlabel('Recall')\n",
    "plt.ylabel('Precision')\n",
    "plt.legend()"
   ],
   "outputs": [
    {
     "data": {
      "text/plain": [
       "<matplotlib.legend.Legend at 0x1d6dde8a1b0>"
      ]
     },
     "execution_count": 761,
     "metadata": {},
     "output_type": "execute_result"
    },
    {
     "data": {
      "text/plain": [
       "<Figure size 640x480 with 1 Axes>"
      ],
      "image/png": "[encoded data removed]"
     },
     "metadata": {},
     "output_type": "display_data"
    }
   ],
   "execution_count": 761
  }
 ],
 "metadata": {
  "interpreter": {
   "hash": "f20ab87d6a3ff6ba42d2ef397e4f998400337c529080cfa5d542bf12e78eea55"
  },
  "kernelspec": {
   "display_name": "Python 3.11.4 64-bit",
   "language": "python",
   "name": "python3"
  },
  "language_info": {
   "codemirror_mode": {
    "name": "ipython",
    "version": 3
   },
   "file_extension": ".py",
   "mimetype": "text/x-python",
   "name": "python",
   "nbconvert_exporter": "python",
   "pygments_lexer": "ipython3",
   "version": "3.11.4"
  },
  "orig_nbformat": 4
 },
 "nbformat": 4,
 "nbformat_minor": 2
}
